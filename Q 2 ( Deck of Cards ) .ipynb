{
 "cells": [
  {
   "cell_type": "code",
   "execution_count": 2,
   "metadata": {},
   "outputs": [],
   "source": [
    "# importing modules\n",
    "import itertools\n",
    "import matplotlib.pyplot as plt\n",
    "import numpy as np\n",
    "import random"
   ]
  },
  {
   "cell_type": "code",
   "execution_count": 3,
   "metadata": {},
   "outputs": [],
   "source": [
    "deck = list(itertools.product(range(1,14),['Spade','Heart','Diamond','Club']))"
   ]
  },
  {
   "cell_type": "code",
   "execution_count": 4,
   "metadata": {},
   "outputs": [],
   "source": [
    "n = 100000\n",
    "def deck_fucntion(n,deck):\n",
    "    double_queens = 0\n",
    "\n",
    "    for i in range(n):\n",
    "        random.shuffle(deck) ## We first need to shuffle the cards\n",
    "        for i in range(len(deck)-1):\n",
    "            if deck[i][0] == 12 and deck[i+1][0] == 12:\n",
    "                double_queens += 1 \n",
    "    return double_queens / n "
   ]
  },
  {
   "cell_type": "code",
   "execution_count": 5,
   "metadata": {},
   "outputs": [
    {
     "data": {
      "text/plain": [
       "0.23154"
      ]
     },
     "execution_count": 5,
     "metadata": {},
     "output_type": "execute_result"
    }
   ],
   "source": [
    "deck_fucntion(n, deck)"
   ]
  },
  {
   "cell_type": "code",
   "execution_count": 6,
   "metadata": {},
   "outputs": [
    {
     "name": "stdout",
     "output_type": "stream",
     "text": [
      "Probability that at 1 one king and 1 queen appear next to each other in shuffles of a deck is:  1.2024\n"
     ]
    }
   ],
   "source": [
    "n = 10000\n",
    "def function(n,deck):\n",
    "    king_queen = 0\n",
    "    for i in range(n):\n",
    "        random.shuffle(deck) \n",
    "        \n",
    "        for i in range(len(deck)-1):\n",
    "            if deck[i][0] == 12 and deck[i+1][0] == 13:\n",
    "                king_queen += 1\n",
    "            elif deck[i][0] == 13 and deck[i+1][0] == 12:\n",
    "                king_queen += 1\n",
    "        \n",
    "        for i in range(len(deck)-2):\n",
    "            if deck[i][0] == 12 and deck[i+2][0] == 13:\n",
    "                king_queen += 1\n",
    "            elif deck[i][0] == 13 and deck[i+2][0] == 12:\n",
    "                king_queen += 1\n",
    "            \n",
    "    return king_queen / n    \n",
    "\n",
    "probability = function(n,deck)   \n",
    "\n",
    "print(\"Probability that at 1 one king and 1 queen appear next to each other in shuffles of a deck is: \",probability)"
   ]
  },
  {
   "cell_type": "code",
   "execution_count": 7,
   "metadata": {},
   "outputs": [],
   "source": [
    "n = np.arange(1000,10000,100)\n",
    "probabilities = list()\n",
    "for i in n:\n",
    "    probabilities.append(function(i,deck))"
   ]
  },
  {
   "cell_type": "code",
   "execution_count": null,
   "metadata": {},
   "outputs": [],
   "source": []
  }
 ],
 "metadata": {
  "kernelspec": {
   "display_name": "Python 3",
   "language": "python",
   "name": "python3"
  },
  "language_info": {
   "codemirror_mode": {
    "name": "ipython",
    "version": 3
   },
   "file_extension": ".py",
   "mimetype": "text/x-python",
   "name": "python",
   "nbconvert_exporter": "python",
   "pygments_lexer": "ipython3",
   "version": "3.8.1"
  }
 },
 "nbformat": 4,
 "nbformat_minor": 4
}
