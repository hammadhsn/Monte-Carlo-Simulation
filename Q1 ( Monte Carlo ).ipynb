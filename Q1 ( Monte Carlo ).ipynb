{
 "cells": [
  {
   "cell_type": "markdown",
   "metadata": {},
   "source": [
    "9\n",
    "## Assignment 3 Question 1"
   ]
  },
  {
   "cell_type": "code",
   "execution_count": 2,
   "metadata": {},
   "outputs": [],
   "source": [
    "import math\n",
    "import random\n",
    "import numpy as np\n",
    "import matplotlib.pyplot as plt"
   ]
  },
  {
   "cell_type": "code",
   "execution_count": 3,
   "metadata": {},
   "outputs": [],
   "source": [
    "def monte_carlo(function,x1,x2,n):\n",
    "    \n",
    "    x = np.arange(x1,x2,0.1)\n",
    "    \n",
    "    y = list()\n",
    "    \n",
    "    for i in range(len(x)):\n",
    "        y.append(function(x[i]))\n",
    "        \n",
    "    max_res = max(y)\n",
    "    \n",
    "\n",
    "    # Generate Random points for x\n",
    "    xrand = x1 + np.random.uniform(x1,x2,n)\n",
    "    \n",
    "    yrand = 0 + np.random.random(n)*max_res\n",
    "    \n",
    "    f = np.vectorize(function)\n",
    "    points_above = np.where(yrand < f(xrand))\n",
    "    points_below = np.where(yrand >= f(xrand)) \n",
    "    \n",
    "    \n",
    "    plt.scatter(xrand[points_below], yrand[points_below], color = \"gray\")\n",
    "\n",
    "    plt.scatter(xrand[points_above], yrand[points_above], color = \"green\")\n",
    "    \n",
    "    plt.legend(('Pts below the curve', 'Pts above the curve'),\n",
    "           loc='lower left',\n",
    "           ncol=3,\n",
    "           fontsize=8)"
   ]
  },
  {
   "cell_type": "markdown",
   "metadata": {},
   "source": [
    "## Part A "
   ]
  },
  {
   "cell_type": "code",
   "execution_count": 4,
   "metadata": {},
   "outputs": [],
   "source": [
    "def cos_function(x):\n",
    "    y =  math.pow(math.cos(x), 2) + 1\n",
    "    y =  math.sqrt(y)\n",
    "    return y"
   ]
  },
  {
   "cell_type": "code",
   "execution_count": 5,
   "metadata": {},
   "outputs": [
    {
     "data": {
      "image/png": "[encoded data removed]",
      "text/plain": [
       "<Figure size 432x288 with 1 Axes>"
      ]
     },
     "metadata": {
      "needs_background": "light"
     },
     "output_type": "display_data"
    }
   ],
   "source": [
    "x1 = 0\n",
    "x2 = 2\n",
    "n = 100000\n",
    "monte_carlo(cos_function,x1,x2,n)"
   ]
  },
  {
   "cell_type": "markdown",
   "metadata": {},
   "source": []
  },
  {
   "cell_type": "markdown",
   "metadata": {},
   "source": [
    "## Part B"
   ]
  },
  {
   "cell_type": "code",
   "execution_count": 6,
   "metadata": {},
   "outputs": [
    {
     "data": {
      "image/png": "[encoded data removed]",
      "text/plain": [
       "<Figure size 432x288 with 1 Axes>"
      ]
     },
     "metadata": {
      "needs_background": "light"
     },
     "output_type": "display_data"
    }
   ],
   "source": [
    "def e_function(x):\n",
    "    return math.exp(x**2)\n",
    "\n",
    "x1 = 0\n",
    "x2 = 1 \n",
    "n = 1000000\n",
    "monte_carlo(e_function,x1,x2,n)"
   ]
  },
  {
   "cell_type": "code",
   "execution_count": null,
   "metadata": {},
   "outputs": [],
   "source": []
  },
  {
   "cell_type": "markdown",
   "metadata": {},
   "source": [
    "## Part C"
   ]
  },
  {
   "cell_type": "code",
   "execution_count": 7,
   "metadata": {},
   "outputs": [
    {
     "name": "stdout",
     "output_type": "stream",
     "text": [
      "Final result is:  4.18792\n",
      "Original Result is:  4.1887902047863905\n"
     ]
    }
   ],
   "source": [
    "n = 100000\n",
    "dimensions = 3\n",
    "result = 0\n",
    "x = y = z = float('inf')\n",
    "\n",
    "for i in range(n):\n",
    "    x = np.random.random()\n",
    "    y = np.random.random()\n",
    "    z = np.random.random()\n",
    "    \n",
    "    r = math.sqrt(x**2 + y**2 + z**2)\n",
    "    \n",
    "    if r <= 1:\n",
    "        result += 1 \n",
    "        \n",
    "final_result = ( 8 * result ) / n\n",
    "print(\"Final result is: \",final_result)\n",
    "r = 1\n",
    "print(\"Original Result is: \",( (4/3) * math.pi * (math.pow(r,3))))"
   ]
  },
  {
   "cell_type": "code",
   "execution_count": null,
   "metadata": {},
   "outputs": [],
   "source": []
  },
  {
   "cell_type": "markdown",
   "metadata": {},
   "source": [
    "## Part D"
   ]
  },
  {
   "cell_type": "code",
   "execution_count": 8,
   "metadata": {},
   "outputs": [],
   "source": [
    "def perform_monte_carlo_for_partD(function,x1,x2,n):\n",
    "    \n",
    "    x = np.arange(x1,x2,0.1)\n",
    "    \n",
    "    y = list()\n",
    "    \n",
    "    for i in range(len(x)):\n",
    "        y.append(function(x[i]))\n",
    "        \n",
    "    max_res = max(y)\n",
    "    \n",
    "\n",
    "    # Generate Random points for x\n",
    "    xrand = x1 + np.random.uniform(x1,x2,n)\n",
    "    \n",
    "    ## Here we assuming that y1 = 0 above x-axis\n",
    "    yrand = 0 + np.random.random(n)*max_res\n",
    "    \n",
    "    f = np.vectorize(function)\n",
    "    points_above = np.where(yrand < f(xrand))\n",
    "    points_below = np.where(yrand >= f(xrand))\n",
    "    \n",
    "    plt.plot(x, y, color = \"red\")\n",
    "    \n",
    "    plt.scatter(xrand[points_below], yrand[points_below], color = \"gray\")\n",
    "\n",
    "    plt.scatter(xrand[points_above], yrand[points_above], color = \"green\")\n",
    "    \n",
    "    plt.legend(('Pts below the curve', 'Pts above the curve'),\n",
    "           loc='lower left',\n",
    "           ncol=3,\n",
    "           fontsize=8)\n",
    "    \n",
    "    print(\"Area of rectangle: \", max_res * (x2-x1))\n",
    "    print(\"Area under the curve: \", max_res * (x2-x1) * len(points_below[0])/n)"
   ]
  },
  {
   "cell_type": "code",
   "execution_count": null,
   "metadata": {},
   "outputs": [],
   "source": []
  }
 ],
 "metadata": {
  "kernelspec": {
   "display_name": "Python 3",
   "language": "python",
   "name": "python3"
  },
  "language_info": {
   "codemirror_mode": {
    "name": "ipython",
    "version": 3
   },
   "file_extension": ".py",
   "mimetype": "text/x-python",
   "name": "python",
   "nbconvert_exporter": "python",
   "pygments_lexer": "ipython3",
   "version": "3.8.1"
  }
 },
 "nbformat": 4,
 "nbformat_minor": 4
}
